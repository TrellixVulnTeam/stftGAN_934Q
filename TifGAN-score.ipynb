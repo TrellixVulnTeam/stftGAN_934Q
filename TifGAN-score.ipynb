{
 "cells": [
  {
   "cell_type": "code",
   "execution_count": null,
   "metadata": {},
   "outputs": [],
   "source": [
    "%load_ext autoreload\n",
    "%autoreload 2 \n",
    "%matplotlib inline"
   ]
  },
  {
   "cell_type": "code",
   "execution_count": null,
   "metadata": {},
   "outputs": [],
   "source": [
    "import os\n",
    "os.environ[\"CUDA_VISIBLE_DEVICES\"]=\"\"\n",
    "\n",
    "import numpy as np\n",
    "import tensorflow as tf\n",
    "from shutil import copy\n",
    "\n",
    "import matplotlib.pyplot as plt\n",
    "import matplotlib"
   ]
  },
  {
   "cell_type": "code",
   "execution_count": null,
   "metadata": {},
   "outputs": [],
   "source": [
    "pathfig = 'figures/'\n",
    "os.makedirs(pathfig, exist_ok=True)"
   ]
  },
  {
   "cell_type": "code",
   "execution_count": null,
   "metadata": {},
   "outputs": [],
   "source": [
    "def get_event_data(event_files, tag, selec_it=None):\n",
    "    data = []\n",
    "    it = []\n",
    "    if selec_it:\n",
    "        selec_it = set(selec_it)\n",
    "    for path_event in event_files:\n",
    "        try:\n",
    "            for e in tf.train.summary_iterator(path_event):\n",
    "                for v in e.summary.value:\n",
    "                    if tag in v.tag:\n",
    "                        if selec_it is None or e.step in selec_it:\n",
    "                            data.append(v.simple_value)\n",
    "                            it.append(e.step)\n",
    "        except:\n",
    "            print('Warning corrupted file')\n",
    "    return np.array(data), np.array(it)\n",
    "\n",
    "\n",
    "def get_event_files(summary_dir):\n",
    "    # Getting the event file\n",
    "    event_files = []\n",
    "    for filename in os.listdir(summary_dir):\n",
    "        if 'events.out.tfevents' in filename:\n",
    "            event_files.append(os.path.join(summary_dir, filename))\n",
    "    # if len(event_files)>1:\n",
    "    #     raise ValueError('Multiple event files')\n",
    "    if len(event_files) == 0:\n",
    "        raise ValueError('No event files')\n",
    "    return event_files\n"
   ]
  },
  {
   "cell_type": "code",
   "execution_count": null,
   "metadata": {},
   "outputs": [],
   "source": [
    "summary_dir = 'saved_results/commands_md64_8k_summary/'\n",
    "event_files = get_event_files(summary_dir)"
   ]
  },
  {
   "cell_type": "code",
   "execution_count": null,
   "metadata": {},
   "outputs": [],
   "source": [
    "selec_it = None\n",
    "# Getting data\n",
    "duality_gap, it = get_event_data(event_files, 'duality/gap_1', selec_it) \n",
    "duality_minmax, itt = get_event_data(event_files, 'duality/minmax_1', selec_it) \n",
    "np.testing.assert_almost_equal(it,itt)\n",
    "duality_maxmin, itt = get_event_data(event_files, 'duality/maxmin_1', selec_it) \n",
    "np.testing.assert_almost_equal(it,itt)\n",
    "consistency, itt = get_event_data(event_files, 'Gen/Reg', selec_it) \n",
    "np.testing.assert_almost_equal(it,itt)\n",
    "\n",
    "# Reodering\n",
    "indexes = np.argsort(it)\n",
    "it = it[indexes]\n",
    "duality_gap = duality_gap[indexes]\n",
    "duality_maxmin = duality_maxmin[indexes]\n",
    "duality_minmax = duality_minmax[indexes]\n",
    "consistency = consistency[indexes]"
   ]
  },
  {
   "cell_type": "code",
   "execution_count": null,
   "metadata": {},
   "outputs": [],
   "source": [
    "N = 16\n",
    "win = np.ones([N])\n",
    "win = win/np.sum(win)\n",
    "\n",
    "duality_gap_smooth = np.convolve(duality_gap, win, mode='same')\n",
    "duality_minmax_smooth = np.convolve(duality_minmax, win, mode='same')\n",
    "consistency_smooth = np.convolve(consistency, win, mode='same')\n",
    "\n",
    "select = np.logical_and(it>=20000, it<=80000)\n"
   ]
  },
  {
   "cell_type": "code",
   "execution_count": null,
   "metadata": {},
   "outputs": [],
   "source": [
    "# plt.plot(it[select],duality_gap[select],color='b', alpha=0.2)\n",
    "# plt.plot(it[select],duality_gap_smooth[select], label='DG', color='b')\n",
    "# plt.plot(it[select],2.5*duality_minmax[select], color='orange', alpha=0.3)\n",
    "# plt.plot(it[select],2.5*duality_minmax_smooth[select], label='MinMax value',  color='orange')\n",
    "# plt.plot(it[select],60*consistency[select], color='green', alpha=0.3)\n",
    "# plt.plot(it[select],60*consistency_smooth[select], label='Consistency measure', color='green')\n",
    "# plt.legend()"
   ]
  },
  {
   "cell_type": "code",
   "execution_count": null,
   "metadata": {},
   "outputs": [],
   "source": [
    "plt.rcParams['figure.figsize'] = (8, 3)  # (9, 4) for matplotlib notebook\n",
    "matplotlib.rcParams.update({'font.size': 16})\n",
    "\n",
    "# Plot the results\n",
    "fig, ax1 = plt.subplots()\n",
    "\n",
    "color = 'tab:blue'\n",
    "color2 = 'tab:orange'\n",
    "ax1.set_xlabel('Iteration')\n",
    "ax1.set_ylabel('Gap')\n",
    "ax1.plot(it[select],duality_gap[select]/3,color=color, alpha=0.2)\n",
    "ax1.plot(it[select],duality_gap_smooth[select]/3, label='Dual gap /3', color=color)\n",
    "ax1.plot(it[select],duality_minmax[select], color=color2, alpha=0.3)\n",
    "ax1.plot(it[select],duality_minmax_smooth[select], color=color2, label='MinMax value')\n",
    "# ax1.tick_params(axis='y', labelcolor=color)\n",
    "ax1.legend()\n",
    "ax1.set_ylim([0,7])\n",
    "ax1.set_xlim([np.min(it[select]),np.max(it[select])])\n",
    "\n",
    "ax3 = ax1.twinx()  # instantiate a second axes that shares the same x-axis\n",
    "\n",
    "color = 'tab:green'\n",
    "ax3.set_ylabel('Consistency score', color=color)  # we already handled the x-label with ax1\n",
    "ax3.plot(it[select],consistency[select], color=color, alpha=0.3)\n",
    "ax3.plot(it[select],consistency_smooth[select], color=color)\n",
    "ax3.tick_params(axis='y', labelcolor=color)\n",
    "# ax2.legend(loc=2)\n",
    "ax3.set_ylim([0,0.3])\n",
    "\n",
    "fig.tight_layout()  # otherwise the right y-label is slightly clipped\n",
    "fig.savefig(os.path.join(pathfig, \"tifgan_consistency.pdf\"), bbox_inches='tight')"
   ]
  },
  {
   "cell_type": "code",
   "execution_count": null,
   "metadata": {},
   "outputs": [],
   "source": []
  },
  {
   "cell_type": "code",
   "execution_count": null,
   "metadata": {},
   "outputs": [],
   "source": []
  }
 ],
 "metadata": {
  "kernelspec": {
   "display_name": "Python 3",
   "language": "python",
   "name": "python3"
  },
  "language_info": {
   "codemirror_mode": {
    "name": "ipython",
    "version": 3
   },
   "file_extension": ".py",
   "mimetype": "text/x-python",
   "name": "python",
   "nbconvert_exporter": "python",
   "pygments_lexer": "ipython3",
   "version": "3.7.3"
  }
 },
 "nbformat": 4,
 "nbformat_minor": 2
}
