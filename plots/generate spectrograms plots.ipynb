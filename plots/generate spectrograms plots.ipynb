{
 "cells": [
  {
   "cell_type": "code",
   "execution_count": null,
   "metadata": {},
   "outputs": [],
   "source": [
    "import sys\n",
    "sys.path.insert(0, '../')\n",
    "import os\n",
    "os.environ[\"CUDA_VISIBLE_DEVICES\"]=\"0\"\n",
    "\n",
    "import numpy as np\n",
    "import tensorflow as tf\n",
    "\n",
    "from gantools import data\n",
    "from gantools import utils\n",
    "from gantools import plot\n",
    "from gantools.model import SpectrogramGAN\n",
    "from gantools.data.Dataset import Dataset\n",
    "from gantools.gansystem import GANsystem\n",
    "from gantools.data import fmap\n",
    "import functools\n",
    "import matplotlib.pyplot as plt\n",
    "from copy import deepcopy\n",
    "import scipy.io\n",
    "\n",
    "downscale = 1\n"
   ]
  },
  {
   "cell_type": "code",
   "execution_count": null,
   "metadata": {},
   "outputs": [],
   "source": [
    "print('start')\n",
    "\n",
    "import scipy.io\n",
    "\n",
    "mat_path = \"../commands_listen_16k_md64_200k.mat\"\n",
    "raw_data = scipy.io.loadmat(mat_path)\n",
    "print(raw_data['generated'].shape)\n",
    "print(raw_data['original'].shape)\n",
    "\n"
   ]
  },
  {
   "cell_type": "code",
   "execution_count": null,
   "metadata": {},
   "outputs": [],
   "source": [
    "import matplotlib as mpl\n",
    "import matplotlib.pyplot as plt\n",
    "import ltfatpy\n",
    "\n",
    "def plot(tf):\n",
    "    a=128\n",
    "    M=512\n",
    "    \n",
    "    mpl.rcParams['image.cmap'] =  'inferno'\n",
    "    plt.figure(figsize=(15,2.5));\n",
    "    plt.subplot(131);\n",
    "    ltfatpy.plotdgtreal(tf[:,:, 0],a,M,dynrange=60);\n",
    "    plt.title('Log magnitude')\n",
    "    # plt.subplot(142);\n",
    "    # ltfatpy.plotdgtreal(unwrap(np.angle(c)),a,M, normalization='lin');\n",
    "    # plt.title('Phase unwrapped in time')\n",
    "    plt.subplot(132);\n",
    "    ltfatpy.plotdgtreal(tf[:,:, 1]*250,a,M, normalization='lin');\n",
    "    plt.title('Phase time-derivative')\n",
    "    plt.subplot(133);\n",
    "    ltfatpy.plotdgtreal(tf[:,:, 2]*750,a,M, normalization='lin');\n",
    "    plt.title('Demodulated phase frequency-derivative')\n"
   ]
  },
  {
   "cell_type": "code",
   "execution_count": null,
   "metadata": {},
   "outputs": [],
   "source": [
    "plot(raw_data['original'][i])"
   ]
  },
  {
   "cell_type": "code",
   "execution_count": null,
   "metadata": {
    "scrolled": false
   },
   "outputs": [],
   "source": [
    "for i in range(10):\n",
    "    plot(raw_data['original'][i])"
   ]
  },
  {
   "cell_type": "code",
   "execution_count": null,
   "metadata": {},
   "outputs": [],
   "source": [
    "\n",
    "def plot(tf, tf2, tf3, tf4):\n",
    "    font = {'family' : 'Times new roman',\n",
    "        'weight' : 'normal',\n",
    "        'size'   : 44}\n",
    "    mpl.rc('font', **font)\n",
    "\n",
    "    a=128\n",
    "    M=512\n",
    "    \n",
    "    mpl.rcParams['image.cmap'] =  'inferno'\n",
    "    plt.figure(figsize=(36,10));\n",
    "    plt.subplot(141);\n",
    "    ltfatpy.plotdgtreal(tf,a,M,dynrange=60, colorbar=False);\n",
    "    plt.title('Original')\n",
    "    # plt.subplot(142);\n",
    "    # ltfatpy.plotdgtreal(unwrap(np.angle(c)),a,M, normalization='lin');\n",
    "    plt.subplot(142);\n",
    "    ltfatpy.plotdgtreal(tf2,a,M,dynrange=60, colorbar=False);\n",
    "    plt.title('Original')\n",
    "    plt.subplot(143);\n",
    "    ltfatpy.plotdgtreal(tf3,a,M,dynrange=60, colorbar=False);\n",
    "    plt.title('Generated')\n",
    "    plt.subplot(144);\n",
    "    ltfatpy.plotdgtreal(tf4,a,M,dynrange=60, colorbar=False);\n",
    "    plt.title('Generated')\n"
   ]
  },
  {
   "cell_type": "code",
   "execution_count": null,
   "metadata": {},
   "outputs": [],
   "source": [
    "i=12\n",
    "plot(np.e**(raw_data['original'][i]), np.e**raw_data['original'][i+10], np.e**raw_data['generated'][i], np.e**raw_data['generated'][i+10])\n",
    "plt.savefig('generated_spectograms.png', bbox_inches='tight')"
   ]
  },
  {
   "cell_type": "code",
   "execution_count": null,
   "metadata": {
    "scrolled": false
   },
   "outputs": [],
   "source": [
    "for i in range(10,20):\n",
    "    plot(np.e**(raw_data['original'][i]), np.e**raw_data['original'][i+10], np.e**raw_data['generated'][i], np.e**raw_data['generated'][i+10])"
   ]
  },
  {
   "cell_type": "code",
   "execution_count": null,
   "metadata": {},
   "outputs": [],
   "source": []
  }
 ],
 "metadata": {
  "kernelspec": {
   "display_name": "Python 3",
   "language": "python",
   "name": "python3"
  },
  "language_info": {
   "codemirror_mode": {
    "name": "ipython",
    "version": 3
   },
   "file_extension": ".py",
   "mimetype": "text/x-python",
   "name": "python",
   "nbconvert_exporter": "python",
   "pygments_lexer": "ipython3",
   "version": "3.5.3"
  }
 },
 "nbformat": 4,
 "nbformat_minor": 2
}
