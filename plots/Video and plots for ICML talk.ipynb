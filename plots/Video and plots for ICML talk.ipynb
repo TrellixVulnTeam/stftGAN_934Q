{
 "cells": [
  {
   "cell_type": "code",
   "execution_count": null,
   "metadata": {},
   "outputs": [],
   "source": [
    "import ltfatpy\n",
    "import scipy as sc\n",
    "import numpy as np\n",
    "import librosa "
   ]
  },
  {
   "cell_type": "code",
   "execution_count": null,
   "metadata": {},
   "outputs": [],
   "source": [
    "filename = 'gspi.wav'\n",
    "sr, y = sc.io.wavfile.read(filename)"
   ]
  },
  {
   "cell_type": "code",
   "execution_count": null,
   "metadata": {},
   "outputs": [],
   "source": [
    "import IPython.display\n",
    "from IPython.display import Audio\n",
    "\n",
    "print(sr)\n",
    "display(Audio(y, rate=sr))"
   ]
  },
  {
   "cell_type": "code",
   "execution_count": null,
   "metadata": {},
   "outputs": [],
   "source": [
    "import matplotlib\n",
    "font = {'family' : 'Times new roman',\n",
    "        'weight' : 'normal',\n",
    "        'size'   : 122}\n",
    "matplotlib.rc('font', **font)\n"
   ]
  },
  {
   "cell_type": "code",
   "execution_count": null,
   "metadata": {},
   "outputs": [],
   "source": [
    "import matplotlib.pyplot as plt\n",
    "f, t, Zxx = sc.signal.stft(y, fs=sr, nperseg=1024, noverlap=1024//3)\n",
    "spectrogram = np.log10(np.abs(Zxx)+1e-12)\n",
    "plt.close()\n",
    "fig, ax = plt.subplots(figsize=(80,40), dpi=10)\n",
    "start=20\n",
    "end=40\n",
    "ax.pcolormesh(t, f, spectrogram, vmin=-5, cmap='inferno')\n",
    "ax.set(xlabel='Time [sec]', ylabel='Frequency [Hz]',\n",
    "       title='STFT Magnitude')\n",
    "plt.show()\n",
    "# plt.savefig('spectrogram.png')"
   ]
  },
  {
   "cell_type": "code",
   "execution_count": null,
   "metadata": {},
   "outputs": [],
   "source": [
    "fig, ax = plt.subplots(figsize=(80,40), dpi=10)\n",
    "\n",
    "t = np.arange(0, len(y)/sr, 1/sr)\n",
    "\n",
    "ax.plot(t, y)\n",
    "ax.set(xlabel='Time [sec]', ylabel='Amplitude',\n",
    "       title='Time-domain signal')\n",
    "ax.set_ylim(-0.9, 0.9)\n",
    "plt.show()\n",
    "# plt.savefig('time_signal.png')"
   ]
  },
  {
   "cell_type": "code",
   "execution_count": null,
   "metadata": {},
   "outputs": [],
   "source": [
    "def plt_offset_spectrogram_and_time(spectrogram, start, end, t, f, signal, t_start, t_end, fs):\n",
    "    # Data for plotting\n",
    "    fig, ax = plt.subplots(figsize=(80,60), dpi=18, nrows=2)\n",
    "\n",
    "    ax[1].pcolormesh(t[start:end], f[:220], spectrogram[:220, start:end], vmax=-0.7, vmin=-5, cmap='inferno')\n",
    "    ax[1].set(xlabel='Time [sec]', ylabel='Frequency [Hz]',\n",
    "           title='STFT Magnitude')\n",
    "\n",
    "    t = np.arange(t_start, t_end)/fs\n",
    "\n",
    "    ax[0].plot(t, signal[t_start:t_end])\n",
    "    ax[0].set(ylabel='Amplitude',\n",
    "           title='Time-domain signal')\n",
    "    ax[0].set_ylim(-0.9, 0.9)\n",
    "    # IMPORTANT ANIMATION CODE HERE\n",
    "    # Used to keep the limits constant\n",
    "#     ax.set_ylim(0, y_max)\n",
    "\n",
    "    # Used to return the plot as an image rray\n",
    "    fig.canvas.draw()       # draw the canvas, cache the renderer\n",
    "    image = np.frombuffer(fig.canvas.tostring_rgb(), dtype='uint8')\n",
    "    image  = image.reshape(fig.canvas.get_width_height()[::-1] + (3,))\n",
    "    plt.close()\n",
    "\n",
    "    return image"
   ]
  },
  {
   "cell_type": "code",
   "execution_count": null,
   "metadata": {},
   "outputs": [],
   "source": [
    "import imageio\n",
    "\n",
    "f, t, Zxx = sc.signal.stft(y, fs=sr, nperseg=1024, noverlap=1024//3)\n",
    "spectrogram = np.log10(np.abs(Zxx)+1e-12)\n",
    "imageio.mimwrite('together.mp4', [plt_offset_spectrogram_and_time(spectrogram, start, start+120, t, f, y, start*(2*1024//3)+2*1024//3, start*(2*1024//3)+2*1024//3+120*(1024//3)*2, sr) for start in range(0, 385-122, 2)], fps=22)\n",
    "\n",
    "# plt.close()"
   ]
  },
  {
   "cell_type": "code",
   "execution_count": null,
   "metadata": {
    "scrolled": false
   },
   "outputs": [],
   "source": [
    "import matplotlib\n",
    "matplotlib.rcParams['image.cmap'] =  'inferno'\n",
    "\n",
    "font = {'family' : 'Times new roman',\n",
    "        'weight' : 'normal',\n",
    "        'size'   : 96}\n",
    "matplotlib.rc('font', **font)\n",
    "\n",
    "f, t, Zxx = sc.signal.stft(y, fs=sr, nperseg=1024, noverlap=1024//3)\n",
    "spectrogram = np.log10(np.abs(Zxx)+1e-12)\n",
    "\n",
    "start = 385-124\n",
    "end = start+120\n",
    "t_start = start*(2*1024//3)+2*1024//3\n",
    "t_end = start*(2*1024//3)+2*1024//3+120*(1024//3)*2\n",
    "fs = sr\n",
    "signal = y\n",
    "\n",
    "fig, ax = plt.subplots(figsize=(60, 40), dpi=18, nrows=2, sharex=True)\n",
    "\n",
    "time = np.arange(t_start, t_end)/fs\n",
    "\n",
    "ax[0].plot(np.arange(0,262144)/fs, signal[:], rasterized=True)\n",
    "#ax[0].plot(time, signal[t_start:t_end])\n",
    "ax[0].set(ylabel='Amplitude',\n",
    "       title='Time-domain signal')\n",
    "ax[0].set_ylim(-0.9, 0.9)\n",
    "\n",
    "ax[1].pcolormesh(t, f[:220], spectrogram[:220, :], vmax=-0.7, vmin=-5, rasterized=True)\n",
    "#ax[1].pcolormesh(t[start:end], f[:250], spectrogram[:250, start:end], vmax=-0.7, vmin=-5)\n",
    "ax[1].set(xlabel='Time [sec]', ylabel='Frequency [Hz]',\n",
    "       title='STFT Magnitude')\n",
    "# plt.savefig('timevsTF.pdf', bbox_inches='tight')\n",
    "plt.show()"
   ]
  },
  {
   "cell_type": "code",
   "execution_count": null,
   "metadata": {},
   "outputs": [],
   "source": [
    "import matplotlib\n",
    "font = {'family' : 'Times new roman',\n",
    "        'weight' : 'normal',\n",
    "        'size'   : 36}\n",
    "matplotlib.rc('font', **font)\n"
   ]
  },
  {
   "cell_type": "code",
   "execution_count": null,
   "metadata": {},
   "outputs": [],
   "source": [
    "f, t, Zxx = sc.signal.stft(y, fs=sr, nperseg=1024, noverlap=1024//3)\n",
    "spectrogram = np.log10(np.abs(Zxx)+1e-12)\n",
    "plt.close()\n",
    "\n",
    "fig, ax = plt.subplots(figsize=(18,18), dpi=48, nrows=2)\n",
    "\n",
    "\n",
    "ax[0].pcolormesh(t, f[:220], spectrogram[:220], vmax=-0.7, vmin=-5, cmap='inferno')\n",
    "ax[0].set(ylabel='Frequency [Hz]',\n",
    "       title='Real STFT Magnitude')\n",
    "\n",
    "threshold = np.zeros_like(spectrogram)-4.5\n",
    "fake_spectrogram = np.amax([spectrogram, threshold], axis=0, keepdims=True)[0]\n",
    "\n",
    "ax[1].pcolormesh(t, f[:220], fake_spectrogram[:220, :], vmax=-0.7, vmin=-4.5, cmap='inferno')\n",
    "ax[1].set(xlabel='Time [sec]', ylabel='Frequency [Hz]',\n",
    "       title='Fake STFT Magnitude')\n",
    "# plt.savefig('real-fake-spectrogram.png', bbox_inches='tight')\n",
    "plt.show()"
   ]
  },
  {
   "cell_type": "code",
   "execution_count": null,
   "metadata": {},
   "outputs": [],
   "source": []
  }
 ],
 "metadata": {
  "kernelspec": {
   "display_name": "Python 3",
   "language": "python",
   "name": "python3"
  },
  "language_info": {
   "codemirror_mode": {
    "name": "ipython",
    "version": 3
   },
   "file_extension": ".py",
   "mimetype": "text/x-python",
   "name": "python",
   "nbconvert_exporter": "python",
   "pygments_lexer": "ipython3",
   "version": "3.7.3"
  }
 },
 "nbformat": 4,
 "nbformat_minor": 2
}
